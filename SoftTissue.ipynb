{
  "nbformat": 4,
  "nbformat_minor": 0,
  "metadata": {
    "colab": {
      "provenance": []
    },
    "kernelspec": {
      "name": "python3",
      "display_name": "Python 3"
    },
    "language_info": {
      "name": "python"
    }
  },
  "cells": [
    {
      "cell_type": "code",
      "execution_count": 1,
      "metadata": {
        "colab": {
          "base_uri": "https://localhost:8080/"
        },
        "id": "BeqZhK_k3E-2",
        "outputId": "4dea533b-ddcd-49f8-f27d-56f4051493bf"
      },
      "outputs": [
        {
          "output_type": "stream",
          "name": "stdout",
          "text": [
            "Best hyperparameters found by Genetic Algorithm: [22, 9]\n",
            "Accuracy on test set: 0.9649122807017544\n"
          ]
        }
      ],
      "source": [
        "import numpy as np\n",
        "import pandas as pd\n",
        "from sklearn.model_selection import train_test_split\n",
        "from sklearn.ensemble import RandomForestClassifier\n",
        "from sklearn.metrics import accuracy_score\n",
        "\n",
        "# Load the dataset\n",
        "url = \"https://archive.ics.uci.edu/ml/machine-learning-databases/breast-cancer-wisconsin/wdbc.data\"\n",
        "column_names = ['ID', 'Diagnosis', 'Mean Radius', 'Mean Texture', 'Mean Perimeter', 'Mean Area', 'Mean Smoothness',\n",
        "                'Mean Compactness', 'Mean Concavity', 'Mean Concave Points', 'Mean Symmetry', 'Mean Fractal Dimension',\n",
        "                'SE Radius', 'SE Texture', 'SE Perimeter', 'SE Area', 'SE Smoothness', 'SE Compactness', 'SE Concavity',\n",
        "                'SE Concave Points', 'SE Symmetry', 'SE Fractal Dimension', 'Worst Radius', 'Worst Texture', 'Worst Perimeter',\n",
        "                'Worst Area', 'Worst Smoothness', 'Worst Compactness', 'Worst Concavity', 'Worst Concave Points',\n",
        "                'Worst Symmetry', 'Worst Fractal Dimension']\n",
        "data = pd.read_csv(url, names=column_names, header=None)\n",
        "\n",
        "# Preprocess the data\n",
        "X = data.drop(columns=['ID', 'Diagnosis'])\n",
        "y = (data['Diagnosis'] == 'M').astype(int)\n",
        "\n",
        "# Split data into train and test sets\n",
        "X_train, X_test, y_train, y_test = train_test_split(X, y, test_size=0.2, random_state=42)\n",
        "\n",
        "# Define evaluation function\n",
        "def evaluate_model(individual):\n",
        "    # Individual is a set of hyperparameters\n",
        "    n_estimators = individual[0]\n",
        "    max_depth = individual[1]\n",
        "\n",
        "    # Train RandomForestClassifier with given hyperparameters\n",
        "    model = RandomForestClassifier(n_estimators=n_estimators, max_depth=max_depth, random_state=42)\n",
        "    model.fit(X_train, y_train)\n",
        "\n",
        "    # Evaluate on test set\n",
        "    y_pred = model.predict(X_test)\n",
        "    accuracy = accuracy_score(y_test, y_pred)\n",
        "\n",
        "    return accuracy\n",
        "\n",
        "# Genetic Algorithm\n",
        "class GeneticAlgorithm:\n",
        "    def __init__(self, pop_size, n_gen, mutation_rate):\n",
        "        self.pop_size = pop_size\n",
        "        self.n_gen = n_gen\n",
        "        self.mutation_rate = mutation_rate\n",
        "\n",
        "    def init_population(self):\n",
        "        return [[np.random.randint(10, 100), np.random.randint(1, 10)] for _ in range(self.pop_size)]\n",
        "\n",
        "    def crossover(self, parent1, parent2):\n",
        "        # Single-point crossover\n",
        "        crossover_point = np.random.randint(len(parent1))\n",
        "        child1 = parent1[:crossover_point] + parent2[crossover_point:]\n",
        "        child2 = parent2[:crossover_point] + parent1[crossover_point:]\n",
        "        return child1, child2\n",
        "\n",
        "    def mutate(self, individual):\n",
        "        # Mutate each gene with a certain probability\n",
        "        for i in range(len(individual)):\n",
        "            if np.random.rand() < self.mutation_rate:\n",
        "                individual[i] = np.random.randint(10, 100) if i == 0 else np.random.randint(1, 10)\n",
        "        return individual\n",
        "\n",
        "    def evolve(self):\n",
        "        population = self.init_population()\n",
        "        for _ in range(self.n_gen):\n",
        "            # Evaluate fitness of each individual\n",
        "            fitness_scores = [evaluate_model(individual) for individual in population]\n",
        "            # Select parents based on fitness scores\n",
        "            parents = [population[i] for i in np.argsort(fitness_scores)[-2:]]\n",
        "            # Generate offspring through crossover and mutation\n",
        "            offspring = [self.mutate(child) for child in self.crossover(*parents)]\n",
        "            # Replace least fit individuals with offspring\n",
        "            population = population[:-2] + offspring\n",
        "        # Return the best individual\n",
        "        return max(population, key=evaluate_model)\n",
        "\n",
        "# Hyperparameters\n",
        "pop_size = 10\n",
        "n_gen = 20\n",
        "mutation_rate = 0.1\n",
        "\n",
        "# Initialize and run Genetic Algorithm\n",
        "ga = GeneticAlgorithm(pop_size, n_gen, mutation_rate)\n",
        "best_hyperparams = ga.evolve()\n",
        "\n",
        "print(\"Best hyperparameters found by Genetic Algorithm:\", best_hyperparams)\n",
        "\n",
        "# After the best hyperparameters are found\n",
        "best_n_estimators, best_max_depth = best_hyperparams\n",
        "\n",
        "# Train RandomForestClassifier with the best hyperparameters\n",
        "best_model = RandomForestClassifier(n_estimators=best_n_estimators, max_depth=best_max_depth, random_state=42)\n",
        "best_model.fit(X_train, y_train)\n",
        "\n",
        "# Predict on test set\n",
        "y_pred = best_model.predict(X_test)\n",
        "\n",
        "# Calculate accuracy\n",
        "accuracy = accuracy_score(y_test, y_pred)\n",
        "print(\"Accuracy on test set:\", accuracy)\n"
      ]
    },
    {
      "cell_type": "code",
      "source": [],
      "metadata": {
        "id": "FSWqjlNj3JIy"
      },
      "execution_count": null,
      "outputs": []
    }
  ]
}