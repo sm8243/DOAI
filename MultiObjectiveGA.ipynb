{
  "nbformat": 4,
  "nbformat_minor": 0,
  "metadata": {
    "colab": {
      "provenance": []
    },
    "kernelspec": {
      "name": "python3",
      "display_name": "Python 3"
    },
    "language_info": {
      "name": "python"
    }
  },
  "cells": [
    {
      "cell_type": "code",
      "execution_count": null,
      "metadata": {
        "colab": {
          "base_uri": "https://localhost:8080/",
          "height": 452
        },
        "id": "DqVllmIwGoKc",
        "outputId": "278d7cd4-b212-4152-b0fe-8595494bbb58"
      },
      "outputs": [
        {
          "output_type": "display_data",
          "data": {
            "text/plain": [
              "<Figure size 640x480 with 1 Axes>"
            ],
            "image/png": "[encoded data removed]"
          },
          "metadata": {}
        }
      ],
      "source": [
        "import numpy as np\n",
        "import matplotlib.pyplot as plt\n",
        "import random\n",
        "\n",
        "DOMAIN = [-10,10]\n",
        "MAX_GENERATIONS = 100\n",
        "PROB_MUTATE = 0.05\n",
        "POP_SIZE = 100\n",
        "\n",
        "\n",
        "class Individual:\n",
        "    #self.prob_mutate = 0.05\n",
        "    def __init__(self,id_,gene=None):\n",
        "        self.id = id_\n",
        "        if gene==None:\n",
        "            self.gene = random.uniform(DOMAIN[0],DOMAIN[1])\n",
        "        else:\n",
        "            self.gene = gene\n",
        "        self.fitness = None\n",
        "        self.y1 = None\n",
        "        self.y2 = None\n",
        "    def mutate(self):\n",
        "        if random.random() < PROB_MUTATE:\n",
        "            perturbation = random.uniform(-1,1)\n",
        "            ''' Mutate on +-1'''\n",
        "            self.gene = self.gene + perturbation\n",
        "    def get_gene(self):\n",
        "        return self.gene\n",
        "    def crossover(self,other):\n",
        "        ''' Average on both individuals'''\n",
        "        gene = (self.get_gene()  + other.get_gene())*0.5\n",
        "        global ID\n",
        "        new_ind = Individual(ID,gene)\n",
        "        ID = ID+1\n",
        "        return new_ind\n",
        "    def evaluate(self):\n",
        "        self.y1 = (self.gene+2)**2 - 10\n",
        "        self.y2 = (self.gene-2)**2 + 20\n",
        "    def show(self):\n",
        "        print(self.gene)\n",
        "''' Helper, only for displaying purposes'''\n",
        "def f(x):\n",
        "    y1 = (x+2)**2 - 10\n",
        "    y2 = (x-2)**2 + 20\n",
        "    return(y1,y2)\n",
        "''' Plot both functions'''\n",
        "def plotF():\n",
        "    X = np.linspace(-10.0, 10.0, num=100)\n",
        "    Y_1= []\n",
        "    Y_2= []\n",
        "    for x in X:\n",
        "        (y1,y2) = f(x)\n",
        "        Y_1.append(y1)\n",
        "        Y_2.append(y2)\n",
        "    plt.title(\"Y1 Y2 vs X\")\n",
        "    plt.plot(X,Y_1,'ro')\n",
        "    plt.plot(X,Y_2,'bo')\n",
        "ID = 0\n",
        "def generatePopulation(n):\n",
        "    global ID\n",
        "    population = []\n",
        "    for i in range(n):\n",
        "        x = Individual(ID)\n",
        "        ID = ID+1\n",
        "        population.append(x)\n",
        "    return population\n",
        "population = generatePopulation(POP_SIZE)\n",
        "''' 25% of all population'''\n",
        "num_offsprings = int(0.25*len(population))\n",
        "''' Iterate over all generations'''\n",
        "for generation in range(MAX_GENERATIONS+1):\n",
        "    new_pop = []\n",
        "    f1 = []\n",
        "    f2 = []\n",
        "    ''' Evalua ambas funciones'''\n",
        "    for individual in population:\n",
        "        individual.evaluate()\n",
        "        ##print(\"id: %f --- y1: %f\"%(individual.id,individual.y2))\n",
        "        f1.append((individual.id,individual.y1))\n",
        "        f2.append((individual.id,individual.y2))\n",
        "    #population.sort(key=lambda x: x.fitness)\n",
        "    ''' Sort f1 and f2 by its individual f1 score'''\n",
        "    f1.sort(key=lambda x: x[1])\n",
        "    f2.sort(key=lambda x: x[1])\n",
        "    for individual in population:\n",
        "        f1_place = 0\n",
        "        f2_place = 0\n",
        "        for i in range(len(f1)):\n",
        "            if individual.id == f1[i][0]:\n",
        "                f1_place = i+1\n",
        "                break\n",
        "        for i in range(len(f2)):\n",
        "            if individual.id == f2[i][0]:\n",
        "                f2_place = i+1\n",
        "                break\n",
        "        individual.fitness = 1/f1_place + 1/f2_place\n",
        "    population.sort(key=lambda x: x.fitness, reverse=True)\n",
        "    if generation == MAX_GENERATIONS:\n",
        "        break\n",
        "    #num_offsprings = int(0.25*len(population))\n",
        "    index = 0\n",
        "    while len(new_pop) < num_offsprings:\n",
        "        candidate = population[index]\n",
        "        new_offspring = candidate.crossover(population[index+1])\n",
        "        new_offspring.mutate()\n",
        "        new_pop.append(new_offspring)\n",
        "        index = index+2\n",
        "    last = len(population)-len(new_pop)\n",
        "    population = new_pop + population[:last]\n",
        "plotF()\n",
        "''' Plot best results'''\n",
        "for i in range(num_offsprings):\n",
        "    plt.plot(population[i].gene,population[i].y1,'m*')\n",
        "    plt.plot(population[i].gene,population[i].y2,'c*')\n",
        "#print(population[:num_offsprings])"
      ]
    },
    {
      "cell_type": "code",
      "source": [],
      "metadata": {
        "id": "j1keAAHWGsvB"
      },
      "execution_count": null,
      "outputs": []
    }
  ]
}