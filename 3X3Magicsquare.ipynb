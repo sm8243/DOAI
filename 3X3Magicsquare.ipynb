{
  "nbformat": 4,
  "nbformat_minor": 0,
  "metadata": {
    "colab": {
      "provenance": []
    },
    "kernelspec": {
      "name": "python3",
      "display_name": "Python 3"
    },
    "language_info": {
      "name": "python"
    }
  },
  "cells": [
    {
      "cell_type": "code",
      "source": [
        "import numpy as np\n",
        "\n",
        "# Define grid size and obstacles\n",
        "GRID_SIZE = (5, 5)\n",
        "OBSTACLES = [(2, 2), (3, 3)]  # Obstacle positions\n",
        "\n",
        "# Define actions (up, down, left, right)\n",
        "ACTIONS = [(-1, 0), (1, 0), (0, -1), (0, 1)]\n",
        "NUM_ACTIONS = len(ACTIONS)\n",
        "\n",
        "# Define Q-learning parameters\n",
        "LEARNING_RATE = 0.1\n",
        "DISCOUNT_FACTOR = 0.9\n",
        "EPSILON = 0.1\n",
        "NUM_EPISODES = 1000\n",
        "\n",
        "# Initialize Q-values\n",
        "Q_values = np.zeros((GRID_SIZE[0], GRID_SIZE[1], NUM_ACTIONS))\n",
        "\n",
        "# Define rewards\n",
        "REWARDS = {\n",
        "    'end': 10,\n",
        "    'obstacle': -10,\n",
        "    'step': -1\n",
        "}\n",
        "\n",
        "# Define grid environment\n",
        "class GridEnvironment:\n",
        "    def __init__(self):\n",
        "        self.grid = np.zeros(GRID_SIZE)\n",
        "\n",
        "    def reset(self):\n",
        "        self.grid = np.zeros(GRID_SIZE)\n",
        "        start_pos = (0, 0)\n",
        "        self.grid[start_pos] = 1  # Set start position\n",
        "        return start_pos\n",
        "\n",
        "    def step(self, action, current_pos):\n",
        "        next_pos = (current_pos[0] + action[0], current_pos[1] + action[1])\n",
        "        reward = REWARDS['step']  # Initialize reward with default value\n",
        "\n",
        "        # Check if next position is valid\n",
        "        if next_pos[0] < 0 or next_pos[0] >= GRID_SIZE[0] or next_pos[1] < 0 or next_pos[1] >= GRID_SIZE[1]:\n",
        "            next_pos = current_pos  # Stay in current position if out of bounds\n",
        "        elif next_pos in OBSTACLES:\n",
        "            reward = REWARDS['obstacle']\n",
        "        elif next_pos == (GRID_SIZE[0] - 1, GRID_SIZE[1] - 1):\n",
        "            reward = REWARDS['end']\n",
        "\n",
        "        return next_pos, reward\n",
        "\n",
        "# Q-learning algorithm\n",
        "def q_learning(env):\n",
        "    for _ in range(NUM_EPISODES):\n",
        "        current_pos = env.reset()\n",
        "        done = False\n",
        "\n",
        "        while not done:\n",
        "            # Choose action\n",
        "            if np.random.uniform(0, 1) < EPSILON:\n",
        "                action = np.random.randint(NUM_ACTIONS)  # Explore\n",
        "            else:\n",
        "                action = np.argmax(Q_values[current_pos[0], current_pos[1]])  # Exploit\n",
        "\n",
        "            next_pos, reward = env.step(ACTIONS[action], current_pos)\n",
        "\n",
        "            # Update Q-values\n",
        "            Q_values[current_pos[0], current_pos[1], action] += LEARNING_RATE * \\\n",
        "                (reward + DISCOUNT_FACTOR * np.max(Q_values[next_pos[0], next_pos[1]]) - Q_values[current_pos[0], current_pos[1], action])\n",
        "\n",
        "            current_pos = next_pos\n",
        "\n",
        "            if reward == REWARDS['end'] or reward == REWARDS['obstacle']:\n",
        "                done = True\n",
        "\n",
        "# Main function\n",
        "if __name__ == \"__main__\":\n",
        "    env = GridEnvironment()\n",
        "    q_learning(env)\n",
        "    print(\"Q-values:\")\n",
        "    print(Q_values)\n"
      ],
      "metadata": {
        "id": "Ih8loMU3SDqj",
        "colab": {
          "base_uri": "https://localhost:8080/"
        },
        "outputId": "a8a5092b-ab2e-4a4d-e63b-6c0f57820174"
      },
      "execution_count": 1,
      "outputs": [
        {
          "output_type": "stream",
          "name": "stdout",
          "text": [
            "Q-values:\n",
            "[[[-2.00342081 -0.434062   -1.80071551 -1.432542  ]\n",
            "  [-2.59115868  0.2347655  -2.60869668 -2.63494206]\n",
            "  [-2.06076928 -1.99181686 -2.09204652 -1.96759448]\n",
            "  [-1.39941645 -0.84491141 -1.45628839 -1.37481525]\n",
            "  [-0.95187454 -0.74970468 -1.07174655 -0.95617925]]\n",
            "\n",
            " [[-1.56030552  0.62882    -0.73232017  0.12336005]\n",
            "  [-2.20724213  1.77604839 -1.98502874 -2.06657648]\n",
            "  [-1.60182551 -4.0951     -1.62842866 -1.19606368]\n",
            "  [-1.13027125  1.3088542  -1.27349014 -0.83761882]\n",
            "  [-0.61708505  1.90425592 -0.62390884 -0.58519851]]\n",
            "\n",
            " [[-0.542441    1.8098      0.41564372  1.43442428]\n",
            "  [-1.49985017  3.12185086 -1.74753092 -4.68559   ]\n",
            "  [ 0.          0.          0.          0.        ]\n",
            "  [-0.68997675 -1.         -2.71        4.23359497]\n",
            "  [-0.15041138  7.29066543 -0.199      -0.199     ]]\n",
            "\n",
            " [[ 0.41385731  1.50627563  1.46824324  3.122     ]\n",
            "  [ 1.45776824  4.58        1.38779831  3.94104721]\n",
            "  [-1.9         6.1668482  -0.56445941 -3.439     ]\n",
            "  [ 0.          0.          0.          0.        ]\n",
            "  [-0.1         9.85219117 -1.          1.50890822]]\n",
            "\n",
            " [[-0.65350011 -0.95617925 -1.03643653  4.35677536]\n",
            "  [ 2.75912244  4.23820175  1.54248456  6.2       ]\n",
            "  [ 3.85923364  5.60785798  4.20195321  8.        ]\n",
            "  [-9.35389181  7.2682745   5.69213392 10.        ]\n",
            "  [ 0.          0.          0.          0.        ]]]\n"
          ]
        }
      ]
    },
    {
      "cell_type": "code",
      "source": [],
      "metadata": {
        "id": "MZGEwZcMogMy"
      },
      "execution_count": null,
      "outputs": []
    }
  ]
}