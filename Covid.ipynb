{
  "nbformat": 4,
  "nbformat_minor": 0,
  "metadata": {
    "colab": {
      "provenance": []
    },
    "kernelspec": {
      "name": "python3",
      "display_name": "Python 3"
    },
    "language_info": {
      "name": "python"
    }
  },
  "cells": [
    {
      "cell_type": "code",
      "execution_count": null,
      "metadata": {
        "id": "WiyAHvr9zFFu"
      },
      "outputs": [],
      "source": [
        "# Import necessary libraries\n",
        "import pandas as pd\n",
        "from sklearn.model_selection import train_test_split\n",
        "from sklearn.ensemble import RandomForestClassifier\n",
        "from sklearn.metrics import accuracy_score, classification_report\n",
        "import matplotlib.pyplot as plt\n",
        "\n",
        "# Load the dataset\n",
        "url = \"https://github.com/owid/covid-19-data/raw/0e4294acd094f45d24101be8def28f7a9ccc0e8e/public/data/owid-covid-data.csv\"\n",
        "covid_data = pd.read_csv(url)"
      ]
    },
    {
      "cell_type": "code",
      "source": [
        "# Drop rows with missing values in important columns\n",
        "covid_data.dropna(subset=['location', 'total_cases', 'total_deaths', 'population'], inplace=True)\n",
        "\n",
        "# Feature engineering: Calculate cases and deaths per population\n",
        "covid_data['cases_per_population'] = covid_data['total_cases'] / covid_data['population']\n",
        "covid_data['deaths_per_population'] = covid_data['total_deaths'] / covid_data['population']\n",
        "\n",
        "# Select relevant features for the model\n",
        "features = ['cases_per_population', 'deaths_per_population']\n",
        "\n",
        "# Target variable: Binary classification (1 if location is prone to COVID, 0 otherwise)\n",
        "covid_data['prone_to_covid'] = (covid_data['new_cases_smoothed_per_million'] > 10).astype(int)\n",
        "\n",
        "# Split data into training and testing sets\n",
        "X_train, X_test, y_train, y_test = train_test_split(covid_data[features], covid_data['prone_to_covid'], test_size=0.2, random_state=42)\n",
        "\n",
        "# Train Random Forest Classifier\n",
        "clf = RandomForestClassifier(n_estimators=100, random_state=42)\n",
        "clf.fit(X_train, y_train)\n",
        "\n",
        "# Predictions\n",
        "y_pred = clf.predict(X_test)\n",
        "\n",
        "# Model evaluation\n",
        "accuracy = accuracy_score(y_test, y_pred)\n",
        "print(\"Accuracy:\", accuracy)\n",
        "print(\"Classification Report:\")\n",
        "print(classification_report(y_test, y_pred))\n",
        "\n",
        "\n"
      ],
      "metadata": {
        "colab": {
          "base_uri": "https://localhost:8080/"
        },
        "id": "2Q_IGly12kjy",
        "outputId": "43e536b6-f1ab-45af-a873-84b06ff89d9b"
      },
      "execution_count": null,
      "outputs": [
        {
          "output_type": "stream",
          "name": "stdout",
          "text": [
            "Accuracy: 0.9829431017119838\n",
            "Classification Report:\n",
            "              precision    recall  f1-score   support\n",
            "\n",
            "           0       0.97      0.99      0.98     31811\n",
            "           1       0.99      0.97      0.98     31741\n",
            "\n",
            "    accuracy                           0.98     63552\n",
            "   macro avg       0.98      0.98      0.98     63552\n",
            "weighted avg       0.98      0.98      0.98     63552\n",
            "\n"
          ]
        }
      ]
    }
  ]
}