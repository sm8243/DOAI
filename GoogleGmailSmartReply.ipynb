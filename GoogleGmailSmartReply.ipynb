{
  "nbformat": 4,
  "nbformat_minor": 0,
  "metadata": {
    "colab": {
      "provenance": []
    },
    "kernelspec": {
      "name": "python3",
      "display_name": "Python 3"
    },
    "language_info": {
      "name": "python"
    }
  },
  "cells": [
    {
      "cell_type": "code",
      "source": [
        "import nltk\n",
        "from nltk import word_tokenize, pos_tag\n",
        "import re #regular expressions\n",
        "\n",
        "nltk.download('punkt')\n",
        "nltk.download('averaged_perceptron_tagger')\n",
        "\n",
        "def generate_smart_reply(user_input):\n",
        "    tokens = word_tokenize(user_input)\n",
        "    pos_tags = pos_tag(tokens)\n",
        "\n",
        "    question_pattern = re.compile(r'\\b(?:what|when|where|who|how)\\b', re.IGNORECASE)\n",
        "    greeting_pattern = re.compile(r'\\b(?:hi|hello|hey)\\b', re.IGNORECASE)\n",
        "\n",
        "    if question_pattern.search(user_input):\n",
        "        return \"I'm not sure. Can you provide more details?\"\n",
        "\n",
        "    if greeting_pattern.search(user_input):\n",
        "        return \"Hello! How can I assist you today?\"\n",
        "\n",
        "    return \"I'm not sure how to respond to that.\"\n",
        "\n",
        "# User input\n",
        "user_input = input(\"Enter a message: \")\n",
        "\n",
        "# Generate and print the smart reply\n",
        "smart_reply = generate_smart_reply(user_input)\n",
        "print(\"\\nGenerated Smart Reply:\", smart_reply)"
      ],
      "metadata": {
        "colab": {
          "base_uri": "https://localhost:8080/"
        },
        "id": "h3TXY6GZ7W8l",
        "outputId": "626748a8-78fa-481c-c6b7-88b2535a105e"
      },
      "execution_count": 8,
      "outputs": [
        {
          "output_type": "stream",
          "name": "stderr",
          "text": [
            "[nltk_data] Downloading package punkt to /root/nltk_data...\n",
            "[nltk_data]   Package punkt is already up-to-date!\n",
            "[nltk_data] Downloading package averaged_perceptron_tagger to\n",
            "[nltk_data]     /root/nltk_data...\n",
            "[nltk_data]   Unzipping taggers/averaged_perceptron_tagger.zip.\n"
          ]
        },
        {
          "output_type": "stream",
          "name": "stdout",
          "text": [
            "Enter a message: Hi\n",
            "\n",
            "Generated Smart Reply: Hello! How can I assist you today?\n"
          ]
        }
      ]
    },
    {
      "cell_type": "code",
      "source": [],
      "metadata": {
        "id": "7gosJkSZ8J9T"
      },
      "execution_count": null,
      "outputs": []
    }
  ]
}